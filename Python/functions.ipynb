{
 "cells": [
  {
   "cell_type": "code",
   "execution_count": 9,
   "metadata": {},
   "outputs": [
    {
     "data": {
      "text/plain": [
       "['И', 'г', 'о', 'р', 'ь']"
      ]
     },
     "execution_count": 9,
     "metadata": {},
     "output_type": "execute_result"
    }
   ],
   "source": [
    "# Преобразовать строку в список\n",
    "list('Игорь')"
   ]
  },
  {
   "cell_type": "code",
   "execution_count": 10,
   "metadata": {},
   "outputs": [
    {
     "data": {
      "text/plain": [
       "('И', 'г', 'о', 'р', 'ь')"
      ]
     },
     "execution_count": 10,
     "metadata": {},
     "output_type": "execute_result"
    }
   ],
   "source": [
    "# Преобразовать строку в кортеж\n",
    "tuple('Игорь')"
   ]
  },
  {
   "cell_type": "code",
   "execution_count": 16,
   "metadata": {},
   "outputs": [
    {
     "data": {
      "text/plain": [
       "True"
      ]
     },
     "execution_count": 16,
     "metadata": {},
     "output_type": "execute_result"
    }
   ],
   "source": [
    "# Преобразование объектов различных типов в Boolean\n",
    "\n",
    "# Вызов функции bool() без аргументов - \n",
    "# конструктор, создающий bolean объект\n",
    "# (False)\n",
    "bool()\n",
    "\n",
    "# Пустой список - False, любой не пустой - True\n",
    "bool([])  # Вернет False\n",
    "bool([2])  # Вернет True (т.к. список не пустой)\n",
    "\n",
    "# Пустая строка - False, любая не пустая - True\n",
    "bool(\"\")  # Вернет False\n",
    "bool(\" \")  # Вернет True (т.к. строка не пустая)\n",
    "\n",
    "# Число 0 - False, любое другое число - True\n",
    "bool(0)  # Вернет False\n",
    "bool(2)  # Вернет True (т.к. число не ноль)\n",
    "\n",
    "# None - False\n",
    "bool(None)  # Вернет False"
   ]
  },
  {
   "cell_type": "markdown",
   "metadata": {},
   "source": [
    "Функции `all()` и `any()` могут быть применены для последовательностей, содержащих не булевы значения. В этом случае они будут преборазованы в булевы значения"
   ]
  },
  {
   "cell_type": "code",
   "execution_count": 1,
   "metadata": {},
   "outputs": [
    {
     "data": {
      "text/plain": [
       "True"
      ]
     },
     "execution_count": 1,
     "metadata": {},
     "output_type": "execute_result"
    }
   ],
   "source": [
    "nums = [0, 2, 0, 0, 0]\n",
    "any(nums)"
   ]
  },
  {
   "cell_type": "code",
   "execution_count": 2,
   "metadata": {},
   "outputs": [
    {
     "data": {
      "text/plain": [
       "False"
      ]
     },
     "execution_count": 2,
     "metadata": {},
     "output_type": "execute_result"
    }
   ],
   "source": [
    "values = [True, False, True, True]\n",
    "any(values) # Вернет True, т.к. есть хотя бы одно значение True\n",
    "all(values) # Вернет False, т.к. не все значения True"
   ]
  },
  {
   "cell_type": "code",
   "execution_count": 21,
   "metadata": {},
   "outputs": [
    {
     "data": {
      "text/plain": [
       "True"
      ]
     },
     "execution_count": 21,
     "metadata": {},
     "output_type": "execute_result"
    }
   ],
   "source": [
    "nums = [1, 2, 3, ]\n",
    "all(nums)"
   ]
  },
  {
   "cell_type": "code",
   "execution_count": null,
   "metadata": {},
   "outputs": [],
   "source": []
  }
 ],
 "metadata": {
  "kernelspec": {
   "display_name": "Python 3.10.5 64-bit",
   "language": "python",
   "name": "python3"
  },
  "language_info": {
   "codemirror_mode": {
    "name": "ipython",
    "version": 3
   },
   "file_extension": ".py",
   "mimetype": "text/x-python",
   "name": "python",
   "nbconvert_exporter": "python",
   "pygments_lexer": "ipython3",
   "version": "3.10.5"
  },
  "orig_nbformat": 4,
  "vscode": {
   "interpreter": {
    "hash": "3d99f4f5bddf52b8a1d7c19d24c1469c13aac696fe150c7b156d9da2ddad6667"
   }
  }
 },
 "nbformat": 4,
 "nbformat_minor": 2
}
