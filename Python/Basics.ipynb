{
 "cells": [
  {
   "cell_type": "markdown",
   "metadata": {},
   "source": [
    "> Как тебя зовут: **Петя**  \n",
    "> Привет, Петя!"
   ]
  },
  {
   "cell_type": "code",
   "execution_count": 2,
   "metadata": {},
   "outputs": [
    {
     "name": "stdout",
     "output_type": "stream",
     "text": [
      "Привет, Илья!\n",
      "Привет, Илья!\n",
      "Привет, Илья!\n"
     ]
    }
   ],
   "source": [
    "name = input('Как тебя зовут: ')\n",
    "# f-string (f-строка, интерполяция)\n",
    "print(f'Привет, {name}!')\n",
    "# метод .format()\n",
    "print('Привет, {}!'.format(name))\n",
    "# Форматирование строки (из языка C)\n",
    "print('Привет, %s!' % name)"
   ]
  },
  {
   "cell_type": "markdown",
   "metadata": {},
   "source": [
    "> Введите имя: **Иван**  \n",
    "> Введите возраст: **20**  \n",
    "> 20 - прекрасный возраст, Иван"
   ]
  },
  {
   "cell_type": "code",
   "execution_count": 3,
   "metadata": {},
   "outputs": [
    {
     "name": "stdout",
     "output_type": "stream",
     "text": [
      "20 - прекрасный возраст, Иван\n",
      "20 - прекрасный возраст, Иван\n",
      "20 - прекрасный возраст, Иван\n"
     ]
    }
   ],
   "source": [
    "name = input('Введите имя: ')\n",
    "age = int(input('Введите возраст: '))\n",
    "print(f'{age} - прекрасный возраст, {name}')\n",
    "print('{} - прекрасный возраст, {}'.format(age, name))\n",
    "print('%d - прекрасный возраст, %s' % (age, name))"
   ]
  }
 ],
 "metadata": {
  "kernelspec": {
   "display_name": "Python 3.10.5 64-bit",
   "language": "python",
   "name": "python3"
  },
  "language_info": {
   "codemirror_mode": {
    "name": "ipython",
    "version": 3
   },
   "file_extension": ".py",
   "mimetype": "text/x-python",
   "name": "python",
   "nbconvert_exporter": "python",
   "pygments_lexer": "ipython3",
   "version": "3.10.5"
  },
  "orig_nbformat": 4,
  "vscode": {
   "interpreter": {
    "hash": "3d99f4f5bddf52b8a1d7c19d24c1469c13aac696fe150c7b156d9da2ddad6667"
   }
  }
 },
 "nbformat": 4,
 "nbformat_minor": 2
}
